{
 "cells": [
  {
   "cell_type": "code",
   "execution_count": 1,
   "id": "double-structure",
   "metadata": {
    "ExecuteTime": {
     "end_time": "2021-03-12T03:16:01.918528Z",
     "start_time": "2021-03-12T03:16:01.161467Z"
    }
   },
   "outputs": [],
   "source": [
    "import torch"
   ]
  },
  {
   "cell_type": "markdown",
   "id": "occupied-handling",
   "metadata": {},
   "source": [
    "I met a nan problem when backwarding the function below when `x` is lower than threshold $th=\\frac{6}{29}^3\\approx0.0089$"
   ]
  },
  {
   "cell_type": "code",
   "execution_count": 2,
   "id": "restricted-guard",
   "metadata": {
    "ExecuteTime": {
     "end_time": "2021-03-12T03:16:01.934416Z",
     "start_time": "2021-03-12T03:16:01.924441Z"
    }
   },
   "outputs": [],
   "source": [
    "def lab_compress(x: torch.tensor):\n",
    "    mask = x > (6./29.)**3.\n",
    "    return (mask * x) ** (1./3.) + (841./108. * x + 4./29.) * ~mask"
   ]
  },
  {
   "cell_type": "code",
   "execution_count": 3,
   "id": "alike-helmet",
   "metadata": {
    "ExecuteTime": {
     "end_time": "2021-03-12T03:16:01.997473Z",
     "start_time": "2021-03-12T03:16:01.941397Z"
    }
   },
   "outputs": [
    {
     "name": "stdout",
     "output_type": "stream",
     "text": [
      "tensor([0.0000, 0.0010, 0.0020, 0.0030, 0.0040, 0.0050, 0.0060, 0.0070, 0.0080,\n",
      "        0.0090, 0.0100, 0.0110, 0.0120, 0.0130, 0.0140, 0.0150, 0.0160, 0.0170,\n",
      "        0.0180, 0.0190])\n"
     ]
    },
    {
     "data": {
      "text/plain": [
       "tensor([   nan,    nan,    nan,    nan,    nan,    nan,    nan,    nan,    nan,\n",
       "        7.7040, 7.1814, 6.7393, 6.3595, 6.0291, 5.7384, 5.4805, 5.2497, 5.0417,\n",
       "        4.8532, 4.6814])"
      ]
     },
     "execution_count": 3,
     "metadata": {},
     "output_type": "execute_result"
    }
   ],
   "source": [
    "x = torch.tensor([x/1000 for x in range(20)])\n",
    "print(x)\n",
    "x.requires_grad_(True)\n",
    "y = lab_compress(x)\n",
    "y.backward(torch.ones_like(y))\n",
    "x.grad"
   ]
  },
  {
   "cell_type": "markdown",
   "id": "dietary-calibration",
   "metadata": {},
   "source": [
    "Check the reason with hook and rewrite the function."
   ]
  },
  {
   "cell_type": "code",
   "execution_count": 4,
   "id": "collectible-average",
   "metadata": {
    "ExecuteTime": {
     "end_time": "2021-03-12T03:16:02.013431Z",
     "start_time": "2021-03-12T03:16:02.001464Z"
    }
   },
   "outputs": [],
   "source": [
    "def lab_compress(x: torch.tensor):\n",
    "    th =  (6./29.)**3.\n",
    "    mask = x > th\n",
    "    x1 = mask * x\n",
    "    x2 = ~mask * x\n",
    "    x1.register_hook(lambda grad: print('x1.grad:\\n', grad))\n",
    "    x2.register_hook(lambda grad: print('x2.grad:\\n', grad))\n",
    "    return x1 ** (1./3.) + 841./108. * x2 + 4./29. * ~mask"
   ]
  },
  {
   "cell_type": "code",
   "execution_count": 5,
   "id": "statewide-narrow",
   "metadata": {
    "ExecuteTime": {
     "end_time": "2021-03-12T03:16:02.045345Z",
     "start_time": "2021-03-12T03:16:02.017419Z"
    }
   },
   "outputs": [
    {
     "name": "stdout",
     "output_type": "stream",
     "text": [
      "tensor([0.0000, 0.0010, 0.0020, 0.0030, 0.0040, 0.0050, 0.0060, 0.0070, 0.0080,\n",
      "        0.0090, 0.0100, 0.0110, 0.0120, 0.0130, 0.0140, 0.0150, 0.0160, 0.0170,\n",
      "        0.0180, 0.0190])\n",
      "x2.grad:\n",
      " tensor([7.7870, 7.7870, 7.7870, 7.7870, 7.7870, 7.7870, 7.7870, 7.7870, 7.7870,\n",
      "        7.7870, 7.7870, 7.7870, 7.7870, 7.7870, 7.7870, 7.7870, 7.7870, 7.7870,\n",
      "        7.7870, 7.7870])\n",
      "x1.grad:\n",
      " tensor([   inf,    inf,    inf,    inf,    inf,    inf,    inf,    inf,    inf,\n",
      "        7.7040, 7.1814, 6.7393, 6.3595, 6.0291, 5.7384, 5.4805, 5.2497, 5.0417,\n",
      "        4.8532, 4.6814])\n"
     ]
    },
    {
     "data": {
      "text/plain": [
       "tensor([   nan,    nan,    nan,    nan,    nan,    nan,    nan,    nan,    nan,\n",
       "        7.7040, 7.1814, 6.7393, 6.3595, 6.0291, 5.7384, 5.4805, 5.2497, 5.0417,\n",
       "        4.8532, 4.6814])"
      ]
     },
     "execution_count": 5,
     "metadata": {},
     "output_type": "execute_result"
    }
   ],
   "source": [
    "x = torch.tensor([x/1000 for x in range(20)])\n",
    "print(x)\n",
    "x.requires_grad_(True)\n",
    "y = lab_compress(x)\n",
    "y.backward(torch.ones_like(y))\n",
    "x.grad"
   ]
  },
  {
   "cell_type": "markdown",
   "id": "abroad-wrestling",
   "metadata": {},
   "source": [
    "It is confusing that we got inf in x1.grad. See https://github.com/pytorch/pytorch/issues/4132 for a probable reason."
   ]
  },
  {
   "cell_type": "markdown",
   "id": "prompt-alexandria",
   "metadata": {},
   "source": [
    "The first way to deal with it is hook. If you haven't used it before, read https://blog.paperspace.com/pytorch-hooks-gradient-clipping-debugging/."
   ]
  },
  {
   "cell_type": "code",
   "execution_count": 6,
   "id": "charged-shopping",
   "metadata": {
    "ExecuteTime": {
     "end_time": "2021-03-12T03:16:02.061319Z",
     "start_time": "2021-03-12T03:16:02.048337Z"
    }
   },
   "outputs": [],
   "source": [
    "def lab_compress(x: torch.tensor):\n",
    "    def hook_fn(grad: torch.tensor):\n",
    "        grad = torch.where(~torch.isfinite(grad), torch.zeros_like(grad), grad)\n",
    "        print(grad)\n",
    "        return\n",
    "\n",
    "    th =  (6./29.)**3.\n",
    "    mask = x > th\n",
    "    x1 = mask * x\n",
    "    x2 = ~mask * x\n",
    "    x1.register_hook(hook_fn)\n",
    "    x2.register_hook(hook_fn)\n",
    "    return x1 ** (1./3.) + 841./108. * x2 + 4./29. * ~mask"
   ]
  },
  {
   "cell_type": "code",
   "execution_count": 7,
   "id": "italian-court",
   "metadata": {
    "ExecuteTime": {
     "end_time": "2021-03-12T03:16:02.106184Z",
     "start_time": "2021-03-12T03:16:02.070295Z"
    }
   },
   "outputs": [
    {
     "name": "stdout",
     "output_type": "stream",
     "text": [
      "tensor([0.0000, 0.0010, 0.0020, 0.0030, 0.0040, 0.0050, 0.0060, 0.0070, 0.0080,\n",
      "        0.0090, 0.0100, 0.0110, 0.0120, 0.0130, 0.0140, 0.0150, 0.0160, 0.0170,\n",
      "        0.0180, 0.0190])\n",
      "tensor([7.7870, 7.7870, 7.7870, 7.7870, 7.7870, 7.7870, 7.7870, 7.7870, 7.7870,\n",
      "        7.7870, 7.7870, 7.7870, 7.7870, 7.7870, 7.7870, 7.7870, 7.7870, 7.7870,\n",
      "        7.7870, 7.7870])\n",
      "tensor([0.0000, 0.0000, 0.0000, 0.0000, 0.0000, 0.0000, 0.0000, 0.0000, 0.0000,\n",
      "        7.7040, 7.1814, 6.7393, 6.3595, 6.0291, 5.7384, 5.4805, 5.2497, 5.0417,\n",
      "        4.8532, 4.6814])\n"
     ]
    },
    {
     "data": {
      "text/plain": [
       "tensor([   nan,    nan,    nan,    nan,    nan,    nan,    nan,    nan,    nan,\n",
       "        7.7040, 7.1814, 6.7393, 6.3595, 6.0291, 5.7384, 5.4805, 5.2497, 5.0417,\n",
       "        4.8532, 4.6814])"
      ]
     },
     "execution_count": 7,
     "metadata": {},
     "output_type": "execute_result"
    }
   ],
   "source": [
    "x = torch.tensor([x/1000 for x in range(20)])\n",
    "print(x)\n",
    "x.requires_grad_(True)\n",
    "y = lab_compress(x)\n",
    "y.backward(torch.ones_like(y))\n",
    "x.grad"
   ]
  },
  {
   "cell_type": "markdown",
   "id": "designing-travel",
   "metadata": {},
   "source": [
    "By resetting infinte values to 0, we got a correct grad."
   ]
  },
  {
   "cell_type": "markdown",
   "id": "floral-saver",
   "metadata": {},
   "source": [
    "However, there may be some problems. if we got nan/inf  grad for other reasons, the hook will clear them at the same time. Also, there is no guarantee that high-order derivatives can be obtained correctly.\n",
    "\n",
    "Another way is using built-in function to solve the problem.(complex, related to the forward function, but safe)"
   ]
  },
  {
   "cell_type": "code",
   "execution_count": 8,
   "id": "passing-spice",
   "metadata": {
    "ExecuteTime": {
     "end_time": "2021-03-12T03:16:02.138097Z",
     "start_time": "2021-03-12T03:16:02.113163Z"
    }
   },
   "outputs": [],
   "source": [
    "import torch.nn.functional as F\n",
    "\n",
    "def lab_compress(x: torch.tensor):\n",
    "    def masking(x: torch.tensor, threshold: float = 0, greater: bool = True):\n",
    "        return F.relu(x - threshold) + threshold if greater \\\n",
    "            else -F.relu(threshold - x) + threshold\n",
    "\n",
    "    th = (6./29.)**3.\n",
    "    mask = x > th\n",
    "    x1 = masking(x, th, True)\n",
    "    x2 = masking(x.clone(), th, False)\n",
    "    return x1 ** (1./3.) + 841./108. * x2 + 4./29. * ~mask"
   ]
  },
  {
   "cell_type": "markdown",
   "id": "lightweight-breach",
   "metadata": {},
   "source": [
    "Here we use masking to wrap the operation. Note that we use x.clone() to avoid backward twice."
   ]
  },
  {
   "cell_type": "code",
   "execution_count": 9,
   "id": "occupational-recorder",
   "metadata": {
    "ExecuteTime": {
     "end_time": "2021-03-12T03:16:02.170012Z",
     "start_time": "2021-03-12T03:16:02.141089Z"
    }
   },
   "outputs": [
    {
     "name": "stdout",
     "output_type": "stream",
     "text": [
      "tensor([0.0000, 0.0010, 0.0020, 0.0030, 0.0040, 0.0050, 0.0060, 0.0070, 0.0080,\n",
      "        0.0090, 0.0100, 0.0110, 0.0120, 0.0130, 0.0140, 0.0150, 0.0160, 0.0170,\n",
      "        0.0180, 0.0190])\n"
     ]
    },
    {
     "data": {
      "text/plain": [
       "tensor([7.7870, 7.7870, 7.7870, 7.7870, 7.7870, 7.7870, 7.7870, 7.7870, 7.7870,\n",
       "        7.7040, 7.1814, 6.7393, 6.3595, 6.0291, 5.7384, 5.4805, 5.2497, 5.0417,\n",
       "        4.8532, 4.6814])"
      ]
     },
     "execution_count": 9,
     "metadata": {},
     "output_type": "execute_result"
    }
   ],
   "source": [
    "x = torch.tensor([x/1000 for x in range(20)])\n",
    "print(x)\n",
    "x.requires_grad_(True)\n",
    "y = lab_compress(x)\n",
    "y.backward(torch.ones_like(y))\n",
    "x.grad"
   ]
  },
  {
   "cell_type": "markdown",
   "id": "radical-tuition",
   "metadata": {},
   "source": [
    "The both tricks above have some drawbacks. A better solution is desired."
   ]
  }
 ],
 "metadata": {
  "kernelspec": {
   "display_name": "Python 3",
   "language": "python",
   "name": "python3"
  },
  "language_info": {
   "codemirror_mode": {
    "name": "ipython",
    "version": 3
   },
   "file_extension": ".py",
   "mimetype": "text/x-python",
   "name": "python",
   "nbconvert_exporter": "python",
   "pygments_lexer": "ipython3",
   "version": "3.7.10"
  },
  "latex_envs": {
   "LaTeX_envs_menu_present": true,
   "autoclose": false,
   "autocomplete": true,
   "bibliofile": "biblio.bib",
   "cite_by": "apalike",
   "current_citInitial": 1,
   "eqLabelWithNumbers": true,
   "eqNumInitial": 1,
   "hotkeys": {
    "equation": "Ctrl-E",
    "itemize": "Ctrl-I"
   },
   "labels_anchors": false,
   "latex_user_defs": false,
   "report_style_numbering": false,
   "user_envs_cfg": false
  },
  "toc": {
   "base_numbering": 1,
   "nav_menu": {},
   "number_sections": true,
   "sideBar": true,
   "skip_h1_title": false,
   "title_cell": "Table of Contents",
   "title_sidebar": "Contents",
   "toc_cell": false,
   "toc_position": {},
   "toc_section_display": true,
   "toc_window_display": false
  },
  "varInspector": {
   "cols": {
    "lenName": 16,
    "lenType": 16,
    "lenVar": 40
   },
   "kernels_config": {
    "python": {
     "delete_cmd_postfix": "",
     "delete_cmd_prefix": "del ",
     "library": "var_list.py",
     "varRefreshCmd": "print(var_dic_list())"
    },
    "r": {
     "delete_cmd_postfix": ") ",
     "delete_cmd_prefix": "rm(",
     "library": "var_list.r",
     "varRefreshCmd": "cat(var_dic_list()) "
    }
   },
   "types_to_exclude": [
    "module",
    "function",
    "builtin_function_or_method",
    "instance",
    "_Feature"
   ],
   "window_display": false
  }
 },
 "nbformat": 4,
 "nbformat_minor": 5
}
